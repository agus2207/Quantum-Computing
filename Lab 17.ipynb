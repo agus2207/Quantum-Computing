{
 "cells": [
  {
   "cell_type": "markdown",
   "id": "ongoing-irish",
   "metadata": {
    "id": "ongoing-irish"
   },
   "source": [
    "<div style=\"text-align: center; margin: 50px\">\n",
    "\n",
    "<h1 style=\"color: darkblue; background-color: white; text-align: center;\">Qubit by Qubit - Semester 2</h1>\n",
    "<h3>Week 17 Lab</h3>\n",
    "\n",
    "</div>"
   ]
  },
  {
   "cell_type": "markdown",
   "id": "clean-wednesday",
   "metadata": {
    "id": "clean-wednesday"
   },
   "source": [
    "# Overview \n",
    "1. [Lab part 1: Tensor products on numpy](#part1) <br>\n",
    "2. [Lab part 2: Using QASM simulator to visualize Bell states](#part2) <br>\n",
    "    a. [Creating the Phi- state](#part2a) <br>\n",
    "    b. [Running the Phi- circuit using QASM](#part2b) <br>\n",
    "3. [Key Takeaways](#part3) <br>\n",
    "4. [Further Reading and Resources](#part4) <br>\n",
    "5. [Optional Content](#part5) <br>\n",
    "6. [Extra Reading on tensor products](#part6) <br>"
   ]
  },
  {
   "cell_type": "markdown",
   "id": "verbal-flavor",
   "metadata": {
    "id": "verbal-flavor"
   },
   "source": [
    "<a id=\"part1\"></a>\n",
    "# Lab part 1: Tensor products on numpy"
   ]
  },
  {
   "cell_type": "markdown",
   "id": "single-rehabilitation",
   "metadata": {},
   "source": [
    "First, let us import all the libraries and function we will need. In addition to qiskit, we'll also use numpy in the first part of the lab."
   ]
  },
  {
   "cell_type": "code",
   "execution_count": 12,
   "id": "upset-extension",
   "metadata": {
    "id": "upset-extension"
   },
   "outputs": [],
   "source": [
    "from qiskit import QuantumCircuit, execute, Aer\n",
    "from qiskit.visualization import plot_histogram\n",
    "import numpy as np"
   ]
  },
  {
   "cell_type": "markdown",
   "id": "collect-warner",
   "metadata": {},
   "source": [
    "Let's try out tensor products in numpy. We'll use the numpy function `np.kron(a,b)`, which computes the tensor product of vectors `a` and `b`. `kron` stands for Kronecker product, which is another name for the tensor product. \n",
    "\n",
    "Let's use this function to figure out the same tensor product we just computed by hand: $\\begin{pmatrix}0\\\\1 \\end{pmatrix} \\otimes \\begin{pmatrix}1\\\\0 \\end{pmatrix} \\otimes \\begin{pmatrix}0\\\\1 \\end{pmatrix} $. Also, keep in mind that we are using **right indexing** for the states, which means that the state of $q_0$ is right rightmost statevector, and the state of state of $q_2$ is right leftmost statevector."
   ]
  },
  {
   "cell_type": "code",
   "execution_count": 13,
   "id": "native-player",
   "metadata": {},
   "outputs": [
    {
     "name": "stdout",
     "output_type": "stream",
     "text": [
      "[[0]\n",
      " [0]\n",
      " [0]\n",
      " [0]\n",
      " [0]\n",
      " [1]\n",
      " [0]\n",
      " [0]]\n"
     ]
    }
   ],
   "source": [
    "q0 = np.array([[0],[1]]) \n",
    "q1 = np.array([[1],[0]])\n",
    "q2 = np.array([[0],[1]])\n",
    "\n",
    "q1q0 = np.kron(q1,q0)  #First, we find q1q0\n",
    "q2q1q0 = np.kron(q2,q1q0) # Then, we find q2q1q0\n",
    "# Alternatively, we can also directly use\n",
    "#q2q1q0 = np.kron(np.kron(q2,q1),q0)\n",
    "print(q2q1q0)"
   ]
  },
  {
   "cell_type": "markdown",
   "id": "instant-fairy",
   "metadata": {},
   "source": [
    "This is the same state we found mathematically! <br>\n",
    "**Practice**: Find $\\begin{pmatrix}1\\\\0 \\end{pmatrix} \\otimes \\begin{pmatrix}1\\\\0 \\end{pmatrix} \\otimes \\begin{pmatrix}0\\\\1 \\end{pmatrix} $ using numpy\n",
    "\n",
    "**HW tip** : Here, we used `kron(a,b)` to find the tensor product of statevectors. in the homework, you will be asked to create your own unitary gate, where you will use the same function `kron(a,b)` to find the tensor product of gates, i.e., matrices. The syntax remains exactly the same! Just define `a` and `b` as the matrices you want to find the tensor product for. Also, tensor products are associative, i.e., $A\\otimes B \\otimes C = (A\\otimes B) \\otimes C = A\\otimes (B \\otimes C)$, meaning that you can write this tensor product as `np.kron(np.kron(A,B),C)` or as `np.kron(A,np.kron(B,C))`. Both will return the same answer."
   ]
  },
  {
   "cell_type": "markdown",
   "id": "thrown-boundary",
   "metadata": {},
   "source": [
    "<a id=\"part2\"></a>\n",
    "# Lab part 2: Using QASM simulator to visualize Bell states"
   ]
  },
  {
   "cell_type": "markdown",
   "id": "competent-immune",
   "metadata": {},
   "source": [
    "### Note on simulators\n",
    "\n",
    "Today, we will be using the **QASM simulator** as our backend, instead of the statevector simulator that we had used last week. The QASM simulator performs measurements on the circuit, so we need to add classical bits and measurements to our circuit. QASM allows us to add noise to the circuit output, making the simulation more realistic."
   ]
  },
  {
   "cell_type": "markdown",
   "id": "otherwise-ethiopia",
   "metadata": {},
   "source": [
    "<a id=\"part2a\"></a>\n",
    "## Making the Phi- state\n",
    "\n",
    "In the lab last week, we created $|\\phi^+\\rangle$, one of the four **Bell States**. Today we will create $|\\phi^-\\rangle$. Recall that there are four Bell states:\n",
    "\n",
    "$$|\\phi^+\\rangle = \\frac{1}{\\sqrt{2}}\\big(|00\\rangle+|11\\rangle\\big)$$\n",
    "$$|\\phi^-\\rangle = \\frac{1}{\\sqrt{2}}\\big(|00\\rangle-|11\\rangle\\big)$$\n",
    "$$|\\psi^+\\rangle = \\frac{1}{\\sqrt{2}}\\big(|01\\rangle+|10\\rangle\\big)$$\n",
    "$$|\\psi^-\\rangle = \\frac{1}{\\sqrt{2}}\\big(|01\\rangle-|10\\rangle\\big)$$\n",
    "\n",
    "These states are examples of **two-qubit entangled states**. These entangled states carry two types of information - **parity** and **phase**. **Parity** refers to whether the two qubits, when measured, would return the same value or not. We can see that for the $|\\phi^+\\rangle$ and $|\\phi^-\\rangle$ states, both qubits are either 0, or both qubits are 1. For the $|\\psi^+\\rangle$ and $|\\psi^-\\rangle$, the two qubits are opposite - if one of them is 1, the other is 0. **Phase** refers to the sign between the two superposed two-qubit states. For $|\\phi^+\\rangle$ and $|\\psi^+\\rangle$ this sign is +, whereas for $|\\phi^-\\rangle$ and $|\\psi^-\\rangle$ it is -."
   ]
  },
  {
   "cell_type": "markdown",
   "id": "portuguese-collection",
   "metadata": {},
   "source": [
    "The difference between $|\\phi^-\\rangle$ and $|\\phi^+\\rangle$ is the sign (or the phase) between the two superposed states. Somehow, we need to flip the sign of the $|11\\rangle$ part of the superposition, without changing the $|00\\rangle$ part in any way. How can we do this?\n",
    "\n",
    "Do we know of any gate that affects $|1\\rangle$ but leaves $|0\\rangle$ unchanged? Yes! The Z gate does exactly this - it gives $|1\\rangle$ a negative sign, and leaves $|0\\rangle$ unchanged.\n",
    "\n",
    "We'll make our $|\\phi^-\\rangle$ state in three steps. First, just as in the $|\\phi^+\\rangle$ circuit, we'll put $q_0$ in a superposition state:"
   ]
  },
  {
   "cell_type": "code",
   "execution_count": 14,
   "id": "physical-sharp",
   "metadata": {},
   "outputs": [
    {
     "data": {
      "image/png": "[encoded data removed]",
      "text/plain": [
       "<Figure size 146.652x204.68 with 1 Axes>"
      ]
     },
     "execution_count": 14,
     "metadata": {},
     "output_type": "execute_result"
    }
   ],
   "source": [
    "circ_phiminus = QuantumCircuit(2,2)\n",
    "circ_phiminus.h(0)\n",
    "circ_phiminus.draw('mpl')"
   ]
  },
  {
   "cell_type": "markdown",
   "id": "defined-layout",
   "metadata": {},
   "source": [
    "Now, we know that $|q_0\\rangle=(|0\\rangle+|1\\rangle)/\\sqrt(2)$. Next, we will apply a Z gate to $q_0$, to flip the sign of the $|1\\rangle$ part, such that $|q_0\\rangle=(|0\\rangle-|1\\rangle)/\\sqrt(2)$."
   ]
  },
  {
   "cell_type": "code",
   "execution_count": 15,
   "id": "generous-preliminary",
   "metadata": {},
   "outputs": [
    {
     "data": {
      "image/png": "[encoded data removed]",
      "text/plain": [
       "<Figure size 206.852x204.68 with 1 Axes>"
      ]
     },
     "execution_count": 15,
     "metadata": {},
     "output_type": "execute_result"
    }
   ],
   "source": [
    "circ_phiminus.z(0) #Applying a Z gate to qubit 0\n",
    "circ_phiminus.draw('mpl')"
   ]
  },
  {
   "cell_type": "markdown",
   "id": "treated-registration",
   "metadata": {},
   "source": [
    "We're almost done! Now, we can apply a CNOT gate to create the entangled state, and add measurements in the same way as before."
   ]
  },
  {
   "cell_type": "code",
   "execution_count": 16,
   "id": "mediterranean-technology",
   "metadata": {},
   "outputs": [
    {
     "data": {
      "image/png": "[encoded data removed]",
      "text/plain": [
       "<Figure size 387.452x204.68 with 1 Axes>"
      ]
     },
     "execution_count": 16,
     "metadata": {},
     "output_type": "execute_result"
    }
   ],
   "source": [
    "circ_phiminus.cx(0,1) #adding CNOT gate with qubit 0 as control and qubit 1 as target\n",
    "circ_phiminus.measure([0,1],[0,1]) # Since we will use the QASM simulator, we have to add measurements.\n",
    "circ_phiminus.draw('mpl')"
   ]
  },
  {
   "cell_type": "markdown",
   "id": "dimensional-interstate",
   "metadata": {},
   "source": [
    "<a id=\"part2b\"></a>\n",
    "## Running the phi- circuit\n",
    "We're done! Let's run this circuit using the QASM simulator. Since we're using the QASM simulator, we'll also need to specify how many times we want to run the circuit, i.e., how many **shots** we want to use. Remember that we're simulating actual measurements on circuits here, and measurements are inherently noisy. Therefore, we do a lot of them to get good statistics on the possible outputs of our quantum circuit."
   ]
  },
  {
   "cell_type": "code",
   "execution_count": 17,
   "id": "retired-documentation",
   "metadata": {},
   "outputs": [
    {
     "data": {
      "image/png": "[encoded data removed]",
      "text/plain": [
       "<Figure size 504x360 with 1 Axes>"
      ]
     },
     "metadata": {},
     "output_type": "display_data"
    }
   ],
   "source": [
    "backend = Aer.get_backend('qasm_simulator')  # specifying that we will use qasm simulator\n",
    "job = execute(circ_phiminus, backend, shots = 1024)  # shots=1024 specifies that the circuit will be run 1024 times\n",
    "result = job.result()\n",
    "# getting the counts, i.e., the fraction of times the circuit gave all the possible results\n",
    "counts = result.get_counts(circ_phiminus)  \n",
    "graph = plot_histogram(counts)\n",
    "display(graph)"
   ]
  },
  {
   "cell_type": "markdown",
   "id": "enclosed-timber",
   "metadata": {},
   "source": [
    "The measurement probabilities are still the same as the phi+ state, since the phase on the $|11\\rangle$ does not affect its measurement probability. We can quickly use statevector simulator to check that we made the phi- state. We'll need to re-define our circuit, since we have to remove the classical bits and measurements before using statevector simulator."
   ]
  },
  {
   "cell_type": "code",
   "execution_count": 18,
   "id": "trying-julian",
   "metadata": {},
   "outputs": [
    {
     "data": {
      "image/png": "[encoded data removed]",
      "text/plain": [
       "<Figure size 267.052x144.48 with 1 Axes>"
      ]
     },
     "execution_count": 18,
     "metadata": {},
     "output_type": "execute_result"
    }
   ],
   "source": [
    "circ_phiminus = QuantumCircuit(2)\n",
    "circ_phiminus.h(0)\n",
    "circ_phiminus.z(0)\n",
    "circ_phiminus.cx(0,1)\n",
    "circ_phiminus.draw('mpl')"
   ]
  },
  {
   "cell_type": "code",
   "execution_count": 19,
   "id": "lucky-gibraltar",
   "metadata": {},
   "outputs": [
    {
     "name": "stdout",
     "output_type": "stream",
     "text": [
      "[ 0.70710678+0.j -0.        +0.j  0.        +0.j -0.70710678+0.j]\n"
     ]
    }
   ],
   "source": [
    "backend = Aer.get_backend('statevector_simulator')  # specifying that we will use statevector simulator\n",
    "job = execute(circ_phiminus, backend)  # Don't have to specify shots\n",
    "result = job.result()\n",
    "statevector = result.get_statevector(circ_phiminus)\n",
    "print(statevector)"
   ]
  },
  {
   "cell_type": "markdown",
   "id": "miniature-giant",
   "metadata": {},
   "source": [
    "The last entry in the statevector, which corresponds to $|11\\rangle$, now has a negative sign! We successfully made the phi- state."
   ]
  },
  {
   "cell_type": "markdown",
   "id": "elder-gross",
   "metadata": {},
   "source": [
    "We just went through the process of designing a circuit to generate a desired output state. Here are the steps we followed:\n",
    "\n",
    "1. We started off analyzing the features final quantum state we want to generate\n",
    "2. We decided which gates we needed to produce those features\n",
    "3. We implemented a circuit with those gates to transform the initial state into the desired final state\n",
    "4. We tested the circuit through simulations\n",
    "\n",
    "This is typically the process one follows while designing quantum circuits - we work backwards from the desired final state, and think about the gates we will need to generate that final state from the initial state. As you gain more experience with the action of different combinations of gates, you will be able to start thinking in terms of 'chunks' or 'blocks' of gates instead of individual gates to generate quantum circuits. **We are just getting started!**"
   ]
  },
  {
   "cell_type": "markdown",
   "id": "vulnerable-surname",
   "metadata": {},
   "source": [
    "<a id=\"part3\"></a>\n",
    "# Key Takeaways\n",
    "\n",
    "1. Tensor products are used to form the statevectors for multi-qubit states. Tensor products essentially tell you all the possible combinations of the vectors.\n",
    "\n",
    "2. QASM simulator requires classical bits and measurements to be present in the circuit, unlike statevector simulator\n",
    "\n",
    "3. To make the phi- Bell state, we first use an H gate followed by a Z gate to flip the sign of the $|1\\rangle$ part of the superposition, before applying the CNOT gate."
   ]
  },
  {
   "cell_type": "markdown",
   "id": "anticipated-increase",
   "metadata": {},
   "source": [
    " <a id=\"part4\"></a>\n",
    " # Further reading and resources\n",
    " \n",
    " [Tensor products demystified](https://www.math3ma.com/blog/the-tensor-product-demystified)\n",
    " \n",
    " [Lecture on tensor products and 2 qubit gates](https://www.youtube.com/watch?v=xzG6c96PsLs)\n",
    " \n",
    " [More on bell states](https://www.quantiki.org/wiki/bell-state)\n",
    " \n",
    " [Introductory notes on quantum computing](https://www.cl.cam.ac.uk/~mgk25/quantum.pdf)\n",
    " \n",
    " [QC lectures from Prof. John Preskill](https://www.youtube.com/watch?v=w08pSFsAZvE&list=PL0ojjrEqIyPy-1RRD8cTD_lF1hflo89Iu&index=1)\n",
    " \n",
    " \n",
    " \n",
    " "
   ]
  },
  {
   "cell_type": "markdown",
   "id": "optimum-sussex",
   "metadata": {},
   "source": [
    "<a id=\"part5\"></a>\n",
    "# Optional content - Circuit Composer widget\n",
    "\n",
    "IBM recently added Circuit Composer as an importable widget on Jupyter notebooks! This widget lets you create cicruits using the drag-and-drop circuit composer, and additionally generates the qiskit code for the circuit live.\n",
    "\n",
    "**Disclaimer**: This widget works smoothly in IQX's Quantum Lab environment. Akshay managed to get it to work on his local Jupyter environment (a numpy update was required), but could not get it to work with Google Colab.\n",
    "\n",
    "First, let us import the widget."
   ]
  },
  {
   "cell_type": "code",
   "execution_count": 20,
   "id": "advanced-mainland",
   "metadata": {},
   "outputs": [],
   "source": [
    "from ibm_quantum_widgets import CircuitComposer"
   ]
  },
  {
   "cell_type": "markdown",
   "id": "growing-hungarian",
   "metadata": {},
   "source": [
    "Next, let's launch it and use it!"
   ]
  },
  {
   "cell_type": "code",
   "execution_count": 21,
   "id": "signal-linux",
   "metadata": {},
   "outputs": [
    {
     "data": {
      "application/vnd.jupyter.widget-view+json": {
       "model_id": "965f4f0ed1e24879b21b1f0118aeea2b",
       "version_major": 2,
       "version_minor": 0
      },
      "text/plain": [
       "CircuitComposer(circuit=<qiskit.circuit.quantumcircuit.QuantumCircuit object at 0x7f68432141c0>)"
      ]
     },
     "metadata": {},
     "output_type": "display_data"
    }
   ],
   "source": [
    "CircuitComposer()"
   ]
  },
  {
   "cell_type": "code",
   "execution_count": 22,
   "id": "strong-dealer",
   "metadata": {},
   "outputs": [
    {
     "data": {
      "text/plain": [
       "<qiskit.circuit.instructionset.InstructionSet at 0x7f68422bafa0>"
      ]
     },
     "execution_count": 22,
     "metadata": {},
     "output_type": "execute_result"
    }
   ],
   "source": [
    "# This code is being generated automatically by the IBM Quantum Circuit Composer widget.\n",
    "# It changes in every update of the widget, so any modifications done in this cell will be lost.\n",
    "# State: synchronized\n",
    "\n",
    "from qiskit import QuantumRegister, ClassicalRegister, QuantumCircuit\n",
    "from numpy import pi\n",
    "\n",
    "qreg_q = QuantumRegister(2, 'q')\n",
    "creg_c = ClassicalRegister(2, 'c')\n",
    "circuit = QuantumCircuit(qreg_q, creg_c)\n",
    "\n",
    "circuit.h(qreg_q[0])\n",
    "circuit.z(qreg_q[0])\n",
    "circuit.cx(qreg_q[0], qreg_q[1])\n",
    "circuit.measure(qreg_q[0], creg_c[0])\n",
    "circuit.measure(qreg_q[1], creg_c[1])"
   ]
  },
  {
   "cell_type": "markdown",
   "id": "brave-prison",
   "metadata": {},
   "source": [
    "You still need to define a backend and run the circuit in code, but using this widget, you can drag and drop your gates and the circuit gets coded for you!"
   ]
  },
  {
   "cell_type": "markdown",
   "id": "caring-primary",
   "metadata": {},
   "source": [
    "<a id=\"part6\"></a>\n",
    "# Extra reading - more practice with tensor products (strictly optional!!)"
   ]
  },
  {
   "cell_type": "markdown",
   "id": "lesser-force",
   "metadata": {
    "id": "lesser-force"
   },
   "source": [
    "### Tensor products\n",
    "We saw last week that a 2-qubit state can be represented with 4 basis vectors: $|00\\rangle, |01\\rangle, |10\\rangle, \\textrm{and } |11\\rangle.$ We also saw how the statevector now has 4 entries: the statevector for a general state $|\\psi\\rangle = \\alpha|00\\rangle +\\beta|01\\rangle +\\gamma|10\\rangle +\\delta|11\\rangle$ is given by $|\\psi\\rangle=\\begin{pmatrix}\\alpha \\\\ \\beta \\\\ \\gamma \\\\ \\delta\\end{pmatrix}$. \n",
    "\n",
    "Formally, the way we form the basis states for multi-qubit states by using the **tensor product**. Given qubit 0 with state $|\\psi_0\\rangle = c_1|0\\rangle +c_2|1\\rangle$ and qubit 1 with state $|\\psi_1\\rangle = c_3|0\\rangle +c_4|1\\rangle$, the combined state of the two qubits is represented by \n",
    "$$ |\\psi\\rangle = |\\psi_1\\rangle \\otimes |\\psi_0\\rangle$$\n",
    "$$ |\\psi\\rangle = (c_3|0\\rangle +c_4|1\\rangle)\\otimes(c_1|0\\rangle +c_2|1\\rangle)$$\n",
    "$$ |\\psi\\rangle = c_3c_1|0\\rangle \\otimes |0\\rangle +c_3c_2|0\\rangle \\otimes |1\\rangle+c_4c_1|1\\rangle \\otimes |0\\rangle+c_4c_2|1\\rangle \\otimes |1\\rangle$$\n",
    "Which is the same as our earlier expression for the two-qubit state, except we are now explicitly showing the tensor product between the basis states of the two qubits.\n",
    "\n",
    "Can we use this formalism to also generate the statevectors? Yes! For example, consider the tensor product $ |0\\rangle \\otimes |1\\rangle$. This can be expanded as:\n",
    "$$\\begin{align} \n",
    "|0\\rangle \\otimes |1\\rangle &= \\begin{pmatrix}  1 \\\\0 \\end{pmatrix} \\otimes \\begin{pmatrix}  0 \\\\1 \\end{pmatrix} \\\\\n",
    " &= \\begin{pmatrix}  1 \\begin{pmatrix} 0 \\\\ 1 \\end{pmatrix} \\\\ 0 \\begin{pmatrix} 0 \\\\ 1 \\end{pmatrix}\\end{pmatrix} \\\\\n",
    " &= \\begin{pmatrix}  0 \\\\ 1\\\\ 0\\\\ 0 \\end{pmatrix}\n",
    " \\end{align}$$\n",
    "\n",
    "**Question:** What is the statevector representation of the tensor product $ |1\\rangle \\otimes |1\\rangle$ ?\n",
    "\n",
    "Now we can think about how a gate would apply to a qubit in a multi-qubit vector. Let's consider the X gate. Fortunately, the rule is quite simple; just as we used the tensor product to calculate multi-qubit statevectors, we use the tensor product to calculate matrices that act on these statevectors. For example, in the circuit below:"
   ]
  },
  {
   "cell_type": "code",
   "execution_count": 23,
   "id": "arctic-region",
   "metadata": {
    "id": "arctic-region",
    "outputId": "0db71c5c-5b89-4674-f059-c7821dec13ea"
   },
   "outputs": [
    {
     "data": {
      "image/png": "[encoded data removed]",
      "text/plain": [
       "<Figure size 146.652x144.48 with 1 Axes>"
      ]
     },
     "execution_count": 23,
     "metadata": {},
     "output_type": "execute_result"
    }
   ],
   "source": [
    "qc_2 = QuantumCircuit(2)\n",
    "qc_2.h(0)\n",
    "qc_2.x(1)\n",
    "qc_2.draw('mpl')"
   ]
  },
  {
   "cell_type": "markdown",
   "id": "surgical-ballot",
   "metadata": {
    "id": "surgical-ballot"
   },
   "source": [
    "We can represent the simultaneous operations (H & X) using their tensor product:\n",
    "\n",
    "$$X|q_1\\rangle\\otimes H|q_0\\rangle=(X\\otimes H)|q_1q_0\\rangle$$\n",
    "\n",
    "The operation looks like this:\n",
    "\n",
    "$$\n",
    "\\begin{align}\n",
    "X\\otimes H &=\\begin{bmatrix}\n",
    "              0 & 1 \\\\\n",
    "              1 & 0\n",
    "             \\end{bmatrix}\n",
    "             \\otimes\n",
    "             \\tfrac{1}{\\sqrt{2}}\n",
    "             \\begin{bmatrix}\n",
    "              1 & 1 \\\\\n",
    "              1 & -1\n",
    "             \\end{bmatrix} \\\\\n",
    "             \\\\\n",
    "           &=\\frac{1}{\\sqrt{2}}\n",
    "             \\begin{bmatrix}\n",
    "              0   \\begin{bmatrix}\n",
    "                   1 & 1 \\\\\n",
    "                   1 & -1\n",
    "                  \\end{bmatrix}\n",
    "              & 1 \\begin{bmatrix}\n",
    "                   1 & 1 \\\\\n",
    "                   1 & -1\n",
    "                  \\end{bmatrix} \\\\\n",
    "              1   \\begin{bmatrix}\n",
    "                   1 & 1 \\\\\n",
    "                   1 & -1\n",
    "                  \\end{bmatrix}\n",
    "              & 0 \\begin{bmatrix}\n",
    "                   1 & 1 \\\\\n",
    "                   1 & -1\n",
    "                  \\end{bmatrix}\n",
    "             \\end{bmatrix}\\\\\n",
    "             \\\\\n",
    "           &=\\frac{1}{\\sqrt{2}}\n",
    "             \\begin{bmatrix}\n",
    "              0 & 0 & 1 & 1 \\\\\n",
    "              0 & 0 & 1 & -1 \\\\\n",
    "              1 & 1 & 0 & 0 \\\\\n",
    "              1 & -1 & 0 & 0\n",
    "             \\end{bmatrix}\n",
    "\\end{align}\n",
    "$$\n",
    "\n",
    "Which we can then apply to our 4D statevector $|q_1q_0\\rangle$.\n",
    "\n",
    "$$\n",
    "|q_1q_0\\rangle = |q_1\\rangle\\otimes|q_0\\rangle=  \\begin{bmatrix}\n",
    "                                                  1 \\\\\n",
    "                                                  0\n",
    "                                                 \\end{bmatrix}\n",
    "                                                 \\otimes\n",
    "                                                 \\begin{bmatrix}\n",
    "                                                  1 \\\\\n",
    "                                                  0\n",
    "                                                 \\end{bmatrix} = \n",
    "                                                 \\begin{bmatrix}\n",
    "                                                  1 \\\\\n",
    "                                                  0 \\\\\n",
    "                                                  0 \\\\\n",
    "                                                  0 \\\\\n",
    "                                                 \\end{bmatrix}\n",
    "$$\n",
    "\n",
    "Thus,\n",
    "\n",
    "$$\n",
    "\\begin{align}\n",
    "(X\\otimes H)|q_1q_0\\rangle &=\\frac{1}{\\sqrt{2}}\n",
    "                             \\begin{bmatrix}\n",
    "                              0 & 0 & 1 & 1 \\\\\n",
    "                              0 & 0 & 1 & -1 \\\\\n",
    "                              1 & 1 & 0 & 0 \\\\\n",
    "                              1 & -1 & 0 & 0\n",
    "                             \\end{bmatrix}\n",
    "                             \\begin{bmatrix}\n",
    "                              1 \\\\\n",
    "                              0 \\\\\n",
    "                              0 \\\\\n",
    "                              0 \\\\\n",
    "                             \\end{bmatrix}\\\\\n",
    "                             \\\\\n",
    "                           &=\\frac{1}{\\sqrt{2}}\n",
    "                             \\begin{bmatrix}\n",
    "                              0 \\\\\n",
    "                              0 \\\\\n",
    "                              1 \\\\\n",
    "                              1 \\\\\n",
    "                             \\end{bmatrix}\n",
    "\\end{align}\n",
    "$$\n",
    "\n"
   ]
  },
  {
   "cell_type": "markdown",
   "id": "available-venue",
   "metadata": {
    "id": "available-venue"
   },
   "source": [
    "If we want to apply a gate to only one qubit at a time (such as in the circuit below), we do the tensor product with the identity matrix, e.g.: $X\\otimes I$"
   ]
  },
  {
   "cell_type": "code",
   "execution_count": 24,
   "id": "discrete-studio",
   "metadata": {
    "id": "discrete-studio",
    "outputId": "92c36c01-eec4-401c-b120-6e3593612fff"
   },
   "outputs": [
    {
     "data": {
      "image/png": "[encoded data removed]",
      "text/plain": [
       "<Figure size 146.652x144.48 with 1 Axes>"
      ]
     },
     "execution_count": 24,
     "metadata": {},
     "output_type": "execute_result"
    }
   ],
   "source": [
    "qc_xi = QuantumCircuit(2)\n",
    "qc_xi.x(1)\n",
    "qc_xi.draw('mpl')"
   ]
  },
  {
   "cell_type": "markdown",
   "id": "suspended-partner",
   "metadata": {
    "id": "suspended-partner"
   },
   "source": [
    "**Question:** How would the matrix of this quantum circuit look like?"
   ]
  },
  {
   "cell_type": "markdown",
   "id": "italic-mills",
   "metadata": {
    "id": "italic-mills"
   },
   "source": [
    "ANS:\n",
    "\n",
    "$$\n",
    "\\begin{align}\n",
    "X\\otimes I &=\\begin{bmatrix}\n",
    "              0 & 1 \\\\\n",
    "              1 & 0\n",
    "             \\end{bmatrix}\n",
    "             \\otimes\n",
    "             \\begin{bmatrix}\n",
    "              1 & 0 \\\\\n",
    "              0 & 1\n",
    "             \\end{bmatrix} \\\\\n",
    "             \\\\\n",
    "           &=\\begin{bmatrix}\n",
    "              0   \\begin{bmatrix}\n",
    "                   1 & 0 \\\\\n",
    "                   0 & 1\n",
    "                  \\end{bmatrix}\n",
    "              & 1 \\begin{bmatrix}\n",
    "                   1 & 0 \\\\\n",
    "                   0 & 1\n",
    "                  \\end{bmatrix} \\\\\n",
    "              1   \\begin{bmatrix}\n",
    "                   1 & 0 \\\\\n",
    "                   0 & 1\n",
    "                  \\end{bmatrix}\n",
    "              & 0 \\begin{bmatrix}\n",
    "                   1 & 0 \\\\\n",
    "                   0 & 1\n",
    "                  \\end{bmatrix}\n",
    "             \\end{bmatrix}\\\\\n",
    "             \\\\\n",
    "           &=\\begin{bmatrix}\n",
    "              0 & 0 & 1 & 0 \\\\\n",
    "              0 & 0 & 0 & 1 \\\\\n",
    "              1 & 0 & 0 & 0 \\\\\n",
    "              0 & 1 & 0 & 0\n",
    "             \\end{bmatrix}\n",
    "\\end{align}\n",
    "$$"
   ]
  },
  {
   "cell_type": "markdown",
   "id": "swedish-fleece",
   "metadata": {
    "id": "swedish-fleece"
   },
   "source": [
    "<a id=\"part3a\"></a>\n",
    "## Control-NOT Gate"
   ]
  },
  {
   "cell_type": "markdown",
   "id": "vertical-criticism",
   "metadata": {
    "id": "vertical-criticism"
   },
   "source": [
    "This gate is a conditional gate that performs an X gate on the second qubit (**target**), if the state of the first qubit (**control**) is $|1\\rangle$. The gate is drawn on a circuit like this, with `q0` as the control and `q1` as the target:"
   ]
  },
  {
   "cell_type": "code",
   "execution_count": 25,
   "id": "sustained-christopher",
   "metadata": {
    "id": "sustained-christopher",
    "outputId": "6f8096f1-cc4e-42fd-bb07-4537cc020271"
   },
   "outputs": [
    {
     "data": {
      "image/png": "[encoded data removed]",
      "text/plain": [
       "<Figure size 146.652x144.48 with 1 Axes>"
      ]
     },
     "execution_count": 25,
     "metadata": {},
     "output_type": "execute_result"
    }
   ],
   "source": [
    "qc_cnot = QuantumCircuit(2)\n",
    "# Apply CNOT\n",
    "qc_cnot.cx(0,1)\n",
    "# See the circuit:\n",
    "qc_cnot.draw('mpl')"
   ]
  },
  {
   "cell_type": "markdown",
   "id": "senior-dispatch",
   "metadata": {
    "id": "senior-dispatch"
   },
   "source": [
    "When our qubits are not in superposition of $|0\\rangle$ or $|1\\rangle$ (behaving as classical bits), this gate is very simple and intuitive to understand. We can use the classical truth table:\n",
    "\n",
    "| Input(t,c) | Outpt(t,c) |\n",
    "|:----------:|:----------:|\n",
    "| 00 | 00 |\n",
    "| 01 | 11 |\n",
    "| 10 | 10 |\n",
    "| 11 | 01 |\n",
    "\n",
    "And acting on our 4D-statevector, it has one of the two matrices:\n",
    "\n",
    "$$\n",
    "\\mbox{CNOT}= \\begin{bmatrix}\n",
    "              1 & 0 & 0 & 0 \\\\\n",
    "              0 & 0 & 0 & 1 \\\\\n",
    "              0 & 0 & 1 & 0 \\\\\n",
    "              0 & 1 & 0 & 0\n",
    "            \\end{bmatrix}\n",
    "\\; \\; \\; \\; \\; , \\; \\; \\; \\; \\;\n",
    "\\mbox{CNOT}= \\begin{bmatrix}\n",
    "              1 & 0 & 0 & 0 \\\\\n",
    "              0 & 1 & 0 & 0 \\\\\n",
    "              0 & 0 & 0 & 1 \\\\\n",
    "              0 & 0 & 1 & 0\n",
    "            \\end{bmatrix}\n",
    "$$\n",
    "\n",
    "Depending on which qubit is the control and which is the target. Different books, simulators and papers order their qubits differently. In our case, the left matrix corresponds to the CNOT in the circuit above."
   ]
  },
  {
   "cell_type": "markdown",
   "id": "dressed-float",
   "metadata": {
    "id": "dressed-float"
   },
   "source": [
    "We have seen how this acts on classical states, but let’s now see how it acts on a qubit in superposition. We will put one qubit in the state $|+\\rangle$:"
   ]
  },
  {
   "cell_type": "code",
   "execution_count": 26,
   "id": "living-steal",
   "metadata": {
    "id": "living-steal",
    "outputId": "90fb81af-20db-42e0-b45e-633fcb289f20"
   },
   "outputs": [
    {
     "data": {
      "image/png": "[encoded data removed]",
      "text/plain": [
       "<Figure size 146.652x144.48 with 1 Axes>"
      ]
     },
     "execution_count": 26,
     "metadata": {},
     "output_type": "execute_result"
    }
   ],
   "source": [
    "qc_hcnot = QuantumCircuit(2)\n",
    "# Apply H-gate to the first qubit to generate the |+> state\n",
    "qc_hcnot.h(0)\n",
    "qc_hcnot.draw('mpl')"
   ]
  },
  {
   "cell_type": "markdown",
   "id": "greek-processing",
   "metadata": {
    "id": "greek-processing"
   },
   "source": [
    "This produces the state $|0\\rangle\\otimes|+\\rangle=|0+\\rangle$:\n",
    "\n",
    "$$\n",
    "|0+\\rangle=\\tfrac{1}{\\sqrt{2}}\\big(|00\\rangle+|01\\rangle\\big)\n",
    "$$\n",
    "\n",
    "And let’s see what happens when we apply the CNOT gate using `cx`:"
   ]
  },
  {
   "cell_type": "code",
   "execution_count": 27,
   "id": "willing-tokyo",
   "metadata": {
    "id": "willing-tokyo",
    "outputId": "5debf33e-0b6b-48b3-a1fe-7f126ee8dc3e"
   },
   "outputs": [
    {
     "data": {
      "image/png": "[encoded data removed]",
      "text/plain": [
       "<Figure size 206.852x144.48 with 1 Axes>"
      ]
     },
     "execution_count": 27,
     "metadata": {},
     "output_type": "execute_result"
    }
   ],
   "source": [
    "qc_hcnot.cx(0,1)\n",
    "qc_hcnot.draw('mpl')"
   ]
  },
  {
   "cell_type": "markdown",
   "id": "answering-preparation",
   "metadata": {
    "id": "answering-preparation"
   },
   "source": [
    "Which give us the sate:\n",
    "\n",
    "$$\n",
    "\\mbox{CNOT} \\; |0+\\rangle=\\tfrac{1}{\\sqrt{2}}\\big(|00\\rangle+|11\\rangle\\big)\n",
    "$$\n",
    "\n",
    "This state is very interesting to us, because it is *entangled*."
   ]
  },
  {
   "cell_type": "markdown",
   "id": "opened-freight",
   "metadata": {
    "id": "opened-freight"
   },
   "source": [
    "<a id=\"part3b\"></a>\n",
    "## SWAP Gate"
   ]
  },
  {
   "cell_type": "markdown",
   "id": "unauthorized-hindu",
   "metadata": {
    "id": "unauthorized-hindu"
   },
   "source": [
    "Sometimes we need to move information around in a quantum computer. For some qubit implementations, this could be done by physically moving them. Another option is simply to move the state between two qubits. This is done by the SWAP gate."
   ]
  },
  {
   "cell_type": "code",
   "execution_count": 28,
   "id": "permanent-calcium",
   "metadata": {
    "id": "permanent-calcium",
    "outputId": "28ce4b70-2fcf-4938-aecf-b93277fc7de5"
   },
   "outputs": [
    {
     "data": {
      "image/png": "[encoded data removed]",
      "text/plain": [
       "<Figure size 146.652x144.48 with 1 Axes>"
      ]
     },
     "execution_count": 28,
     "metadata": {},
     "output_type": "execute_result"
    }
   ],
   "source": [
    "a = 0\n",
    "b = 1\n",
    "\n",
    "qc_s = QuantumCircuit(2)\n",
    "# swaps states of qubits a and b\n",
    "qc_s.swap(a,b)\n",
    "qc_s.draw('mpl')"
   ]
  },
  {
   "cell_type": "markdown",
   "id": "resident-suspect",
   "metadata": {
    "id": "resident-suspect"
   },
   "source": [
    "It is represented by the matrix:\n",
    "\n",
    "$$\n",
    "\\mbox{SWAP} =   \\begin{bmatrix}\n",
    "                  1 & 0 & 0 & 0 \\\\\n",
    "                  0 & 0 & 1 & 0 \\\\\n",
    "                  0 & 1 & 0 & 0 \\\\\n",
    "                  0 & 0 & 0 & 1\n",
    "                \\end{bmatrix}\n",
    "$$"
   ]
  }
 ],
 "metadata": {
  "colab": {
   "name": "QxQ Gates and Measuring Circuits Lab.ipynb",
   "provenance": []
  },
  "kernelspec": {
   "display_name": "Python 3",
   "language": "python",
   "name": "python3"
  },
  "language_info": {
   "codemirror_mode": {
    "name": "ipython",
    "version": 3
   },
   "file_extension": ".py",
   "mimetype": "text/x-python",
   "name": "python",
   "nbconvert_exporter": "python",
   "pygments_lexer": "ipython3",
   "version": "3.8.8"
  },
  "widgets": {
   "application/vnd.jupyter.widget-state+json": {
    "state": {
     "20507fc5b3fa44f2b8f14590ff6dcf80": {
      "model_module": "@jupyter-widgets/base",
      "model_module_version": "1.2.0",
      "model_name": "LayoutModel",
      "state": {}
     },
     "21ca0d90e406403aa510b91ae4c0bd7e": {
      "model_module": "@jupyter-widgets/base",
      "model_module_version": "1.2.0",
      "model_name": "LayoutModel",
      "state": {}
     },
     "599b2d69cfe0485d8ec5cce5103f31b3": {
      "model_module": "@jupyter-widgets/base",
      "model_module_version": "1.2.0",
      "model_name": "LayoutModel",
      "state": {}
     },
     "708db11d9ef4450084076ad16cc68b8b": {
      "model_module": "@jupyter-widgets/base",
      "model_module_version": "1.2.0",
      "model_name": "LayoutModel",
      "state": {}
     },
     "87081ed6150d4213be13e473e17a64cd": {
      "model_module": "@quantum/ibm-q-lab-widgets",
      "model_module_version": "^1.0.3",
      "model_name": "CircuitComposerModel",
      "state": {
       "_model_module_version": "^1.0.3",
       "_view_module_version": "^1.0.3",
       "circuit": "\"OPENQASM 2.0;\\ninclude \\\"qelib1.inc\\\";\\n\\nqreg q[3];\\ncreg c[3];\\n\\n\"",
       "editable": true,
       "layout": "IPY_MODEL_21ca0d90e406403aa510b91ae4c0bd7e",
       "qiskit_code_cell_index": -1
      }
     },
     "965f4f0ed1e24879b21b1f0118aeea2b": {
      "model_module": "@quantum/ibm-q-lab-widgets",
      "model_module_version": "^1.0.3",
      "model_name": "CircuitComposerModel",
      "state": {
       "_model_module_version": "^1.0.3",
       "_view_module_version": "^1.0.3",
       "circuit": "\"OPENQASM 2.0;\\ninclude \\\"qelib1.inc\\\";\\n\\nqreg q[3];\\ncreg c[3];\\n\\n\"",
       "editable": true,
       "layout": "IPY_MODEL_9c3a5abd99f74c6cb29676d3b160eca8",
       "qiskit_code_cell_index": -1
      }
     },
     "9bafca41b22e40fcb72267f64427b3c5": {
      "model_module": "@quantum/ibm-q-lab-widgets",
      "model_module_version": "^1.0.3",
      "model_name": "CircuitComposerModel",
      "state": {
       "_model_module_version": "^1.0.3",
       "_view_module_version": "^1.0.3",
       "circuit": "\"OPENQASM 2.0;\\ninclude \\\"qelib1.inc\\\";\\n\\nqreg q[3];\\ncreg c[3];\\n\\nh q[0];\\ncx q[0],q[1];\"",
       "editable": true,
       "layout": "IPY_MODEL_b951e49d23b143ce98f9ac2771d3b994",
       "qiskit_code_cell_index": 30
      }
     },
     "9c3a5abd99f74c6cb29676d3b160eca8": {
      "model_module": "@jupyter-widgets/base",
      "model_module_version": "1.2.0",
      "model_name": "LayoutModel",
      "state": {}
     },
     "a85c2d355df940e68b0259647fea8b59": {
      "model_module": "@quantum/ibm-q-lab-widgets",
      "model_module_version": "^1.0.3",
      "model_name": "CircuitComposerModel",
      "state": {
       "_model_module_version": "^1.0.3",
       "_view_module_version": "^1.0.3",
       "circuit": "\"OPENQASM 2.0;\\ninclude \\\"qelib1.inc\\\";\\n\\nqreg q[2];\\ncreg c[2];\\n\\nh q[0];\\nz q[0];\\ncx q[0],q[1];\\nmeasure q[0] -> c[0];\\nmeasure q[1] -> c[1];\"",
       "editable": true,
       "layout": "IPY_MODEL_708db11d9ef4450084076ad16cc68b8b",
       "qiskit_code_cell_index": 30
      }
     },
     "b951e49d23b143ce98f9ac2771d3b994": {
      "model_module": "@jupyter-widgets/base",
      "model_module_version": "1.2.0",
      "model_name": "LayoutModel",
      "state": {}
     },
     "c24ec75a13df4adc925da2148c1de0ba": {
      "model_module": "@quantum/ibm-q-lab-widgets",
      "model_module_version": "^1.0.3",
      "model_name": "CircuitComposerModel",
      "state": {
       "_model_module_version": "^1.0.3",
       "_view_module_version": "^1.0.3",
       "circuit": "\"OPENQASM 2.0;\\ninclude \\\"qelib1.inc\\\";\\n\\nqreg q[3];\\ncreg c[3];\\n\\n\"",
       "editable": true,
       "layout": "IPY_MODEL_20507fc5b3fa44f2b8f14590ff6dcf80",
       "qiskit_code_cell_index": 30
      }
     },
     "eb857bbeb9f244869724d7c2b6cc4548": {
      "model_module": "@quantum/ibm-q-lab-widgets",
      "model_module_version": "^1.0.3",
      "model_name": "CircuitComposerModel",
      "state": {
       "_model_module_version": "^1.0.3",
       "_view_module_version": "^1.0.3",
       "circuit": "\"OPENQASM 2.0;\\ninclude \\\"qelib1.inc\\\";\\n\\nqreg q[2];\\ncreg c[2];\\n\\nh q[0];\\nz q[1];\"",
       "editable": true,
       "layout": "IPY_MODEL_599b2d69cfe0485d8ec5cce5103f31b3",
       "qiskit_code_cell_index": -1
      }
     }
    },
    "version_major": 2,
    "version_minor": 0
   }
  }
 },
 "nbformat": 4,
 "nbformat_minor": 5
}
