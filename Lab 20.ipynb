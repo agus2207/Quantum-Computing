{
 "cells": [
  {
   "cell_type": "markdown",
   "id": "complimentary-institute",
   "metadata": {
    "id": "complimentary-institute",
    "slideshow": {
     "slide_type": "slide"
    }
   },
   "source": [
    "<div style=\"text-align: center; margin: 50px\">\n",
    "\n",
    "<h1 style=\"text-align: center;\">Qubit by Qubit - Semester 2</h1>\n",
    "<h3>Week 20: Linear Search and Deutsch-Josza Algorithm</h3>\n",
    "    Completed notebook\n",
    "\n",
    "</div>"
   ]
  },
  {
   "cell_type": "markdown",
   "id": "dressed-walter",
   "metadata": {
    "id": "dressed-walter",
    "slideshow": {
     "slide_type": "slide"
    }
   },
   "source": [
    "# Overview \n",
    "1. [Introduction](#introduction) <br>\n",
    "2. [Linear Search](#linear) <br>\n",
    "    2.1 [Big-O notation](#bigO) <br>\n",
    "3. [Extra content](#extra) <br>\n",
    "    3.1 [The Deutsch-Josza Oracle](#djoracle) <br>\n",
    "    3.2 [Deutsch-Josza algorithm implementation](#djfull) <br>\n",
    "    3.3 [Binary search](#binary) <br>\n",
    "    3.4 [Challenge problems](#challenge) <br>"
   ]
  },
  {
   "cell_type": "markdown",
   "id": "above-addiction",
   "metadata": {
    "id": "above-addiction",
    "slideshow": {
     "slide_type": "slide"
    }
   },
   "source": [
    "<a id=\"introduction\"></a>\n",
    "# 1. Introduction"
   ]
  },
  {
   "cell_type": "markdown",
   "id": "super-ceremony",
   "metadata": {
    "id": "super-ceremony",
    "slideshow": {
     "slide_type": "slide"
    }
   },
   "source": [
    "## What is a search algorithm?\n",
    "[Search Algorithms](https://en.wikipedia.org/wiki/Search_algorithm) are designed to check for an element or retrieve an element from any data structure where it is stored. Based on the type of search operation, these algorithms are generally classified into two categories:\n",
    "\n",
    "- **Sequential Search**: In this, the list or array is traversed sequentially and every element is checked. For example: Linear Search.\n",
    "\n",
    "- **Interval Search**: These algorithms are specifically designed for searching in *sorted* data-structures. These type of searching algorithms are much more efficient than Linear Search as they repeatedly target the center of the search structure and divide the search space in half. For Example: Binary Search.\n",
    "\n",
    "Algorithms are often evaluated by their computational complexity, or maximum theoretical run time. We will see more detail of this below.\n",
    "\n",
    "In this lab, we will implement a linear search algorithm and analyze its complexity.\n"
   ]
  },
  {
   "cell_type": "markdown",
   "id": "returning-pressure",
   "metadata": {
    "id": "returning-pressure",
    "slideshow": {
     "slide_type": "-"
    }
   },
   "source": [
    "<a id=\"linear\"></a>\n",
    "# 2. Linear Search"
   ]
  },
  {
   "cell_type": "markdown",
   "id": "collect-postage",
   "metadata": {
    "slideshow": {
     "slide_type": "-"
    }
   },
   "source": [
    "Suppose you're scanning a list of the ages of people in your school or organization, and you want to find the person who is 19 years old. How would you go about this search problem?\n",
    "\n",
    "One approach you might take is to start checking the age of each person one-by-one from the start of the list, and stop when you find the person who is 19 years old. This approach is called **linear search**.\n",
    "\n",
    "Formally, linear search sequentially checks each element of the data set (size `n`) until a match is found or the whole set has been compared."
   ]
  },
  {
   "cell_type": "markdown",
   "id": "disabled-drain",
   "metadata": {
    "slideshow": {
     "slide_type": "-"
    }
   },
   "source": [
    "Let's implement linear search. To set up the search, we will use an array to store our data set. We'll indicate the element we want to find with `x`. "
   ]
  },
  {
   "cell_type": "code",
   "execution_count": 1,
   "id": "flying-wisconsin",
   "metadata": {
    "id": "flying-wisconsin",
    "slideshow": {
     "slide_type": "-"
    }
   },
   "outputs": [],
   "source": [
    "data = [2, 32, 24, 10, 41, 8, 12, 67, 79, 14, 91, 19, 56, 88, 109]  # data set\n",
    "x = 19  # Element we are looking for\n",
    "n = len(data) # data set size"
   ]
  },
  {
   "cell_type": "markdown",
   "id": "democratic-peripheral",
   "metadata": {
    "id": "democratic-peripheral",
    "slideshow": {
     "slide_type": "-"
    }
   },
   "source": [
    "The linear search algorithm is:\n",
    "\n",
    "1. Start from the leftmost element of the array and one by one compare `x` with each element of the data set.\n",
    "2. If `x` matches with current element, return the index.\n",
    "3. If `x` does not match the current element, move on to the next one.\n",
    "3. If `x` doesn’t match with any of elements in the array, return `-1` (search failed, or element not found)."
   ]
  },
  {
   "cell_type": "markdown",
   "id": "lovely-poker",
   "metadata": {},
   "source": [
    "Let us generalize this search algorithm. We want to be able to use the same method to search any database and find the element we're looking for. It would be annoying if we had to write out the whole code every time we wanted to search. Therefore, we will define a **function** called `linear_search` that will do the job for us. This function will take two inputs - the dataset we want to search in, and the element we want to find. The function will produce two outputs - the element of the array at which the `x` is present, and number of steps it took to find the element we were looking for. Also, it is good practice to flag if the search failed and the element was not found. We will do this by making the function return -1 if the element was not found."
   ]
  },
  {
   "cell_type": "code",
   "execution_count": 2,
   "id": "threatened-freedom",
   "metadata": {
    "id": "threatened-freedom"
   },
   "outputs": [],
   "source": [
    "def linear_search(data, x): # Linear search function takes two inputs - the dataset and the element we want to find\n",
    "    n = len(data)  # Finding the length of the dataset\n",
    "    for i in range(0, n):\n",
    "        if (data[i] == x):\n",
    "            return i, i+1   # The function returns the array element, which is i, and the number of steps, which is i+1\n",
    "    return -1, i+1 # is search fails, the function returns -1, and the number of steps, which is i+1"
   ]
  },
  {
   "cell_type": "markdown",
   "id": "downtown-stock",
   "metadata": {
    "id": "downtown-stock"
   },
   "source": [
    "Let's use the linear search function with the same array we had defined before to find `x = 20`"
   ]
  },
  {
   "cell_type": "code",
   "execution_count": 3,
   "id": "numerous-earth",
   "metadata": {
    "colab": {
     "base_uri": "https://localhost:8080/"
    },
    "id": "numerous-earth",
    "outputId": "cb9132e9-7887-4188-9bad-645e0cff05b9",
    "scrolled": true
   },
   "outputs": [
    {
     "name": "stdout",
     "output_type": "stream",
     "text": [
      "Element is present at index = 11 and was found in 12 steps\n"
     ]
    }
   ],
   "source": [
    "x = 19                                                             # element we want to find\n",
    "result, steps = linear_search(data, x)\n",
    "print(\"Element is present at index =\", result, \"and was found in\", steps, \"steps\")"
   ]
  },
  {
   "cell_type": "markdown",
   "id": "instructional-bridal",
   "metadata": {},
   "source": [
    "Try out this function with different values of `x`!"
   ]
  },
  {
   "cell_type": "markdown",
   "id": "divine-physiology",
   "metadata": {
    "id": "divine-physiology"
   },
   "source": [
    "**Questions on complexity:**\n",
    "1. What is the **mimimum** number of steps that would be required in linear search, and when does this occur (the best-case complexity)?\n",
    "2. What is the **maximum** number of steps that would be required in linear search, and when does this occur (the worst-case complexity)?\n",
    "3. What is the **average** number of steps that would be required in linear search (the average complexity)?"
   ]
  },
  {
   "cell_type": "markdown",
   "id": "spatial-kentucky",
   "metadata": {
    "id": "spatial-kentucky",
    "slideshow": {
     "slide_type": "slide"
    }
   },
   "source": [
    "<a id=\"bigO\"></a>\n",
    "## 2.1 Big-O notation\n",
    "In the worst case, it takes **N** steps to find an element using linear search, where **N** is the size of the dataset. This is called **time complexity** and it is written with [Big O notation](https://en.wikipedia.org/wiki/Big_O_notation), therefore, for *linear search* we have that its time complexity is **O(N)**, i.e. goes like a linear function."
   ]
  },
  {
   "cell_type": "markdown",
   "id": "insured-witness",
   "metadata": {},
   "source": [
    "<a id=\"extra\"></a>\n",
    "# 3. Extra content (strictly optional!!)"
   ]
  },
  {
   "cell_type": "markdown",
   "id": "distinguished-winner",
   "metadata": {},
   "source": [
    "### <a id=\"djoracle\"></a>\n",
    "# 3.1 The Deutsch-Josza oracle"
   ]
  },
  {
   "cell_type": "markdown",
   "id": "copyrighted-engagement",
   "metadata": {},
   "source": [
    "The DJ algorithm allows us to determine if the function is constant or balanced with just one check, provided we express the function as an **oracle**. We know that we want our quantum states to be modified by the application of the function, so that we can figure out if the function is constant or balanced. Therefore, we will have to express the function in the form of an operator, or a gate. Also, just like all other quantum operators, the gate we make for the function will have to be reversible. An **oracle** is exactly this reversible gate form of the function we want to check.\n",
    "\n",
    "This is true for a lot of quantum algorithms - we need to express the problem in terms of an oracle to make a quantum circuit to solve it. In this lab, we will look at how a function that takes in a 1-bit input can be expressed as an oracle for the DJ algorithm. Next week, we will see oracles in the context of Grover's algorithm."
   ]
  },
  {
   "cell_type": "markdown",
   "id": "designing-keyboard",
   "metadata": {},
   "source": [
    "For the DJ algorithm, we will call our oracle $U_f$. Here is what the oracle we will look like:"
   ]
  },
  {
   "cell_type": "markdown",
   "id": "chicken-piece",
   "metadata": {},
   "source": [
    "\n",
    "![image.png](data:image/png;base64,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)\n"
   ]
  },
  {
   "cell_type": "markdown",
   "id": "canadian-leonard",
   "metadata": {},
   "source": [
    "The oracle takes two qubits as inputs - $x$ and $y$. It performs an **XOR** operation on $y$ - the output is $y \\oplus f(x)$. $x$ is unchanged. Let us check if this produced unique outputs:"
   ]
  },
  {
   "cell_type": "markdown",
   "id": "whole-pizza",
   "metadata": {},
   "source": [
    "For the first case,\n",
    "\n",
    "| Input $$x$$ | Input $$y$$ |$$f(x)$$|$$y \\oplus f(x)$$|\n",
    "|:----:|:------:|:------:|:------:|\n",
    "| 0 | 0 | 0 | 0 |\n",
    "| 0 | 1 | 0 | 1 |\n",
    "| 1 | 0 | 0 | 0 |\n",
    "| 1 | 1 | 0 | 1 |\n",
    "\n",
    "Here, we notice that $y \\oplus f(x) = y$, which makes sense since $f(x) = 0$ and $y \\oplus 0 = y$\n",
    "\n",
    "For the second case,\n",
    "\n",
    "| Input $$x$$ | Input $$y$$ |$$f(x)$$|$$y \\oplus f(x)$$|\n",
    "|:----:|:------:|:------:|:------:|\n",
    "| 0 | 0 | 1 | 1 |\n",
    "| 0 | 1 | 1 | 0 |\n",
    "| 1 | 0 | 1 | 1 |\n",
    "| 1 | 1 | 1 | 0 |\n",
    "\n",
    "Here, we notice that $y \\oplus f(x) = \\bar{y}$, which makes sense since $f(x) = 1$ and since $y \\oplus 1 = \\bar{y}$\n",
    "\n",
    "For the third case,\n",
    "\n",
    "| Input $$x$$ | Input $$y$$ |$$f(x)$$|$$y \\oplus f(x)$$|\n",
    "|:----:|:------:|:------:|:------:|\n",
    "| 0 | 0 | 0 | 0 |\n",
    "| 0 | 1 | 0 | 1 |\n",
    "| 1 | 0 | 1 | 1 |\n",
    "| 1 | 1 | 1 | 0 |\n",
    "\n",
    "Here, we notice that $y \\oplus f(x) = y \\oplus x$, which makes sense, since $f(x) = x$. This is a CNOT between x and y!\n",
    "\n",
    "For the last case,\n",
    "\n",
    "| Input $$x$$ | Input $$y$$ |$$f(x)$$|$$y \\oplus f(x)$$|\n",
    "|:----:|:------:|:------:|:------:|\n",
    "| 0 | 0 | 1 | 1 |\n",
    "| 0 | 1 | 1 | 0 |\n",
    "| 1 | 0 | 0 | 0 |\n",
    "| 1 | 1 | 0 | 1 |\n",
    "\n",
    "Here, we notice that $y \\oplus f(x) = y \\oplus \\bar{x}$, which makes sense, since $f(x) = \\bar{x}$. This is a CNOT between $\\bar{x}$ and y!\n",
    "\n",
    "\n",
    "Notice how, by using the oracle formulation, we've transformed the problem into a reversible operator on the inputs."
   ]
  },
  {
   "cell_type": "markdown",
   "id": "marine-tonight",
   "metadata": {},
   "source": [
    "Let us make each of these oracles. We will define a function for the constant oracles, and a separate function for the balanced oracles. Each function will have two inputs - which of the two choices for constant or balanced oracle we want, and the quantum circuit to which we want to add the oracle."
   ]
  },
  {
   "cell_type": "markdown",
   "id": "owned-platinum",
   "metadata": {},
   "source": [
    "First let us define the constant oracle function. Here, we'll fix the convention that if the first input is 0, we want the case where $f(x) = 0$, and if it is one, we want $f(x) = 1$"
   ]
  },
  {
   "cell_type": "code",
   "execution_count": 4,
   "id": "printable-gather",
   "metadata": {},
   "outputs": [],
   "source": [
    "def constant_oracle(n,qc):\n",
    "    if (n==0):  # We want to oracle with f(x) = 0\n",
    "        pass\n",
    "    else:  # We want to oracle with f(x) = 1\n",
    "        qc.x(1)"
   ]
  },
  {
   "cell_type": "markdown",
   "id": "frequent-expression",
   "metadata": {},
   "source": [
    "Next, let us define the balanced oracle function. Here, we'll fix the convention that if the first input is 0, we want the case where $f(x) = x$, and if it is one, we want $f(x) = \\bar{x}$"
   ]
  },
  {
   "cell_type": "code",
   "execution_count": 5,
   "id": "republican-marshall",
   "metadata": {},
   "outputs": [],
   "source": [
    "def balanced_oracle(n,qc):\n",
    "    if (n==0):  # We want the balanced oracle where f(x) = x. In this case, the outputs correspond to a CNOT function\n",
    "        qc.cx(0,1)\n",
    "    else: # We want the balanced oracle where f(x) = \\bar{x}\n",
    "        qc.x(0)\n",
    "        qc.cx(0,1)"
   ]
  },
  {
   "cell_type": "code",
   "execution_count": 6,
   "id": "accompanied-waste",
   "metadata": {},
   "outputs": [],
   "source": [
    "import qiskit as q"
   ]
  },
  {
   "cell_type": "code",
   "execution_count": 7,
   "id": "fatal-onion",
   "metadata": {},
   "outputs": [
    {
     "data": {
      "image/png": "[encoded data removed]",
      "text/plain": [
       "<Figure size 327.252x204.68 with 1 Axes>"
      ]
     },
     "execution_count": 7,
     "metadata": {},
     "output_type": "execute_result"
    }
   ],
   "source": [
    "\n",
    "qc = q.QuantumCircuit(2,2)\n",
    "qc.barrier()\n",
    "oracle = balanced_oracle(1,qc)\n",
    "qc.barrier()\n",
    "qc.draw('mpl')"
   ]
  },
  {
   "cell_type": "markdown",
   "id": "authorized-technique",
   "metadata": {},
   "source": [
    "<a id=\"djfull\"></a>\n",
    "## 3.2 The Deutsch-Josza Algorithm implementation"
   ]
  },
  {
   "cell_type": "markdown",
   "id": "greatest-bones",
   "metadata": {},
   "source": [
    "Now, we will implement the full DJ algorithm. First, let's create a function to call one of our oracles at random. Our problem will be to figure out if the oracle is constant or balanced."
   ]
  },
  {
   "cell_type": "code",
   "execution_count": 8,
   "id": "facial-poison",
   "metadata": {},
   "outputs": [],
   "source": [
    "from random import getrandbits"
   ]
  },
  {
   "cell_type": "code",
   "execution_count": 9,
   "id": "frozen-temperature",
   "metadata": {},
   "outputs": [],
   "source": [
    "def random_oracle(qc):\n",
    "    if(getrandbits(1)==0):\n",
    "        constant_oracle(getrandbits(1),qc)\n",
    "    else:\n",
    "        balanced_oracle(getrandbits(1),qc)"
   ]
  },
  {
   "cell_type": "markdown",
   "id": "compact-punch",
   "metadata": {},
   "source": [
    "Here are the steps of the DJ algorithm for a single-bit function:\n",
    "1. Initiate a quantum circuit of two qubits\n",
    "2. Apply an X gate to $q_1$\n",
    "3. Apply H gates to both $q_0$ and $q_1$\n",
    "4. Apply the oracle to $q_0$ and $q_1$\n",
    "5. Apply H gates to both $q_0$ and $q_1$\n",
    "6. Measure $q_0$. If the result is 0, the oracle is constant. If it is 1, the oracle is balanced.\n",
    "\n",
    "Notice that we only invoked the oracle (i.e. applied the function) once in this algorithm."
   ]
  },
  {
   "cell_type": "code",
   "execution_count": 10,
   "id": "tribal-wiring",
   "metadata": {},
   "outputs": [
    {
     "data": {
      "image/png": "[encoded data removed]",
      "text/plain": [
       "<Figure size 628.252x204.68 with 1 Axes>"
      ]
     },
     "execution_count": 10,
     "metadata": {},
     "output_type": "execute_result"
    }
   ],
   "source": [
    "qc = q.QuantumCircuit(2,2)\n",
    "qc.x(1)    # Step 2\n",
    "qc.barrier()\n",
    "qc.h(0)    # Step 3\n",
    "qc.h(1)    # Step 3\n",
    "qc.barrier()\n",
    "random_oracle(qc)  # Step 4\n",
    "qc.barrier()\n",
    "qc.h(0) # Step 5\n",
    "qc.h(1) # Step 5\n",
    "qc.barrier()\n",
    "qc.measure([0,1],[0,1]) # Step 6\n",
    "qc.draw('mpl')"
   ]
  },
  {
   "cell_type": "code",
   "execution_count": 11,
   "id": "expected-tunnel",
   "metadata": {},
   "outputs": [
    {
     "name": "stdout",
     "output_type": "stream",
     "text": [
      "{'10': 1024}\n"
     ]
    }
   ],
   "source": [
    "backend = q.Aer.get_backend('qasm_simulator')\n",
    "job = q.execute (qc, backend, shots = 1024)\n",
    "results = job.result()\n",
    "counts = results.get_counts(qc)\n",
    "print(counts)"
   ]
  },
  {
   "cell_type": "markdown",
   "id": "proprietary-denmark",
   "metadata": {
    "id": "public-insulation"
   },
   "source": [
    "<a id=\"binary\"></a>\n",
    "## 3.3 Binary Search"
   ]
  },
  {
   "cell_type": "markdown",
   "id": "positive-solomon",
   "metadata": {
    "id": "incorporate-bradford"
   },
   "source": [
    "This type of search requires that the data set be sorted.\n",
    "\n",
    "The algorithm to follow is:\n",
    "\n",
    "1. Compare `x` (target element) to the middle element of the array (`n/2`).\n",
    "2. If `x` matches with middle element, we return the mid index.\n",
    "3. Else, If `x` is greater than the mid element, then `x` can only lie in right half subarray after the mid element. So we recur for right half.\n",
    "4. Else (`x` is smaller) recur for the left half.\n",
    "5. Repeat steps 1 to 4 until `x` is found.\n",
    "6. If the search ends with the remaining half being empty, `x` is not in the array, then return `-1` (not found).\n",
    "\n"
   ]
  },
  {
   "cell_type": "code",
   "execution_count": 12,
   "id": "single-bulletin",
   "metadata": {
    "colab": {
     "base_uri": "https://localhost:8080/"
    },
    "id": "still-kingston",
    "outputId": "741a6963-bae1-4a71-a3ef-493be01476bb"
   },
   "outputs": [
    {
     "name": "stdout",
     "output_type": "stream",
     "text": [
      "[2, 8, 10, 12, 14, 19, 24, 32, 41, 56, 67, 79, 88, 91, 109]\n"
     ]
    }
   ],
   "source": [
    "data.sort()                                                         # data set must be sorted\n",
    "print(data)"
   ]
  },
  {
   "cell_type": "code",
   "execution_count": 13,
   "id": "personalized-paper",
   "metadata": {
    "id": "plain-therapy"
   },
   "outputs": [],
   "source": [
    "def binary_search(data, left, right, x): \n",
    "\n",
    "    steps = 0\n",
    "    \n",
    "    while left <= right:\n",
    "        \n",
    "        steps += 1\n",
    "  \n",
    "        mid = left + (right - left) // 2; \n",
    "          \n",
    "        # Check if x is present at mid \n",
    "        if data[mid] == x: \n",
    "            return mid, steps\n",
    "  \n",
    "        # If x is greater, ignore left half \n",
    "        elif data[mid] < x: \n",
    "            left = mid + 1\n",
    "  \n",
    "        # If x is smaller, ignore right half \n",
    "        else: \n",
    "            right = mid - 1\n",
    "      \n",
    "    # If we reach here, then the element \n",
    "    # was not present \n",
    "    return -1, steps"
   ]
  },
  {
   "cell_type": "code",
   "execution_count": 14,
   "id": "aging-prerequisite",
   "metadata": {
    "id": "mechanical-graham"
   },
   "outputs": [],
   "source": [
    "def search_element_binary(data, n, x):\n",
    "    \n",
    "    result, steps = binary_search(data, 0, n-1, x)                  # function call\n",
    "\n",
    "    if(result == -1):\n",
    "        print(\"Binary :::: Element is not present in data set and\", steps,\"steps were executed\")\n",
    "    else:\n",
    "        print(\"Binary :::: Element is present at index =\", result, \"and was found in\", steps, \"steps\")\n"
   ]
  },
  {
   "cell_type": "code",
   "execution_count": 15,
   "id": "accomplished-civilian",
   "metadata": {
    "colab": {
     "base_uri": "https://localhost:8080/"
    },
    "id": "equivalent-bernard",
    "outputId": "873c1a2a-5e53-4c98-aa18-15c5a9ce176d"
   },
   "outputs": [
    {
     "name": "stdout",
     "output_type": "stream",
     "text": [
      "Binary :::: Element is not present in data set and 4 steps were executed\n"
     ]
    }
   ],
   "source": [
    "x = 20                                                              # element we want to find\n",
    "search_element_binary(data, n, x)"
   ]
  },
  {
   "cell_type": "markdown",
   "id": "driven-attachment",
   "metadata": {
    "id": "auburn-donna"
   },
   "source": [
    "Now let's find the element that is at the end of the array:"
   ]
  },
  {
   "cell_type": "code",
   "execution_count": 16,
   "id": "loose-debate",
   "metadata": {
    "colab": {
     "base_uri": "https://localhost:8080/"
    },
    "id": "separate-pricing",
    "outputId": "1832200c-af7a-459a-9896-5ef3d78ac23e"
   },
   "outputs": [
    {
     "name": "stdout",
     "output_type": "stream",
     "text": [
      "Binary :::: Element is present at index = 14 and was found in 4 steps\n"
     ]
    }
   ],
   "source": [
    "x = 109                                                             # element we want to find, last in array\n",
    "search_element_binary(data, n, x)"
   ]
  },
  {
   "cell_type": "markdown",
   "id": "educational-alert",
   "metadata": {
    "id": "surprised-mathematics"
   },
   "source": [
    "If we try to find an element not present in data set, then the number of steps to execute will be the maximum:"
   ]
  },
  {
   "cell_type": "code",
   "execution_count": 17,
   "id": "killing-investor",
   "metadata": {
    "colab": {
     "base_uri": "https://localhost:8080/"
    },
    "id": "accessible-terminal",
    "outputId": "c66c2f55-4143-43e4-a3e1-f246543a1bc5"
   },
   "outputs": [
    {
     "name": "stdout",
     "output_type": "stream",
     "text": [
      "Binary :::: Element is not present in data set and 4 steps were executed\n"
     ]
    }
   ],
   "source": [
    "x = 21                                                              # element we want to find, but it isn't presente\n",
    "search_element_binary(data, n, x)"
   ]
  },
  {
   "cell_type": "markdown",
   "id": "earned-catch",
   "metadata": {
    "id": "incredible-genetics"
   },
   "source": [
    "As we can see, the binary search is more efficient since it takes fewer steps to find an element (or determine that it is not present in the data set). However, this algorithm has the restriction that the elements of the data set must be previously sorted.\n",
    "\n",
    "Then, once the elements are sorted, the time complexity for the binary search is **O(log$_2$ n)**, i.e. goes like an logarithm function.\n",
    "\n",
    "<br>\n",
    "\n",
    "***\n",
    "> Where **log$_2$** is the [logarithm](https://en.wikipedia.org/wiki/Logarithm) function base $2$. In general a logartihm base $b$ is given by:\n",
    "> \n",
    "> $$\\log_b(x) = y \\iff b^y=x \\; \\; \\; , \\; \\; \\; x>0 \\; \\; \\; , \\; \\; \\; b>0 \\; \\; \\; , \\; \\; \\; b\\neq1$$\n",
    "> \n",
    "> For example, $\\log_2 64 = 6$, as $2^6 = 64$\n",
    "***"
   ]
  },
  {
   "cell_type": "markdown",
   "id": "optical-payday",
   "metadata": {
    "id": "fourth-implement"
   },
   "source": [
    "The way the binary search works is shown in the following image:"
   ]
  },
  {
   "cell_type": "markdown",
   "id": "optional-halifax",
   "metadata": {
    "id": "comparable-effort"
   },
   "source": [
    "![search2_2.png](data:image/png;base64,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)"
   ]
  },
  {
   "cell_type": "markdown",
   "id": "therapeutic-delay",
   "metadata": {
    "id": "united-triangle"
   },
   "source": [
    "<br>\n",
    "\n",
    "**We can conclude that indeed the binary search is much better than the linear search, if and only if the data set is *sorted*.**\n",
    "\n",
    "**What if it is not possible to pre-sorter the data set?**\n",
    "\n",
    "**Or is it too expensive?**"
   ]
  },
  {
   "cell_type": "markdown",
   "id": "helpful-selling",
   "metadata": {},
   "source": [
    "<a id=\"challenge\"></a>\n",
    "## 3.4 Challenge problems\n",
    "\n",
    "**Problem 1.** Suppose we have an unsorted list, and we want to find an element in it using binary search. We could do this in two steps:\n",
    "    a. Sort the list <br>\n",
    "    b. Perform binary search <br>\n",
    "1. Design an algorithm to sort the list, and estimate its complexity. <br>\n",
    "2. What is the overall complexity of this two-step process? <br>\n",
    "\n",
    "**Problem 2.** In lab we looked at the Deutsch-Josza oracle for a function that takes a single-bit as input. Create an implementation of the Deutsch-Josza oracle for a function that takes 2-bit inputs. The function still produces 1-bit output. In this case, the function is constant is the output is 0 for all 4 input combinations, and it is balanced if the output is 0 for two input combinations and 1 for the other two. Next, implement the D-J algorithm with this oracle. Can you generalize this to n bits?"
   ]
  },
  {
   "cell_type": "code",
   "execution_count": 18,
   "id": "a4c15f86",
   "metadata": {},
   "outputs": [],
   "source": [
    "def merge_sort(arr):\n",
    "    if len(arr) > 1:\n",
    "        # Finding the mid of the array\n",
    "        mid = len(arr)//2\n",
    "        # Dividing the array elements\n",
    "        L = arr[:mid]\n",
    "        # into 2 halves\n",
    "        R = arr[mid:]\n",
    "        # Sorting the first half\n",
    "        merge_sort(L)\n",
    "        # Sorting the second half\n",
    "        merge_sort(R)\n",
    "        i = j = k = 0\n",
    "        # Copy data to temp arrays L[] and R[]\n",
    "        while i < len(L) and j < len(R):\n",
    "            if L[i] < R[j]:\n",
    "                arr[k] = L[i]\n",
    "                i += 1\n",
    "            else:\n",
    "                arr[k] = R[j]\n",
    "                j += 1\n",
    "            k += 1\n",
    "        # Checking if any element was left\n",
    "        while i < len(L):\n",
    "            arr[k] = L[i]\n",
    "            i += 1\n",
    "            k += 1\n",
    "        while j < len(R):\n",
    "            arr[k] = R[j]\n",
    "            j += 1\n",
    "            k += 1"
   ]
  },
  {
   "cell_type": "markdown",
   "id": "261f6d23",
   "metadata": {},
   "source": [
    "To sort a list merge sort is a good option. It complexity is O(n log(n)) and the complexity of the binary search is O(log n), so the complexity for sort and search should be O(n log(n)) if we use merge sort."
   ]
  },
  {
   "cell_type": "code",
   "execution_count": 19,
   "id": "55ba74d0",
   "metadata": {
    "scrolled": true
   },
   "outputs": [
    {
     "name": "stdout",
     "output_type": "stream",
     "text": [
      "[1, 2, 3, 4, 5, 6, 7, 8, 9]\n",
      "Binary :::: Element is present at index = 3 and was found in 4 steps\n"
     ]
    }
   ],
   "source": [
    "array = [9, 4, 5, 8, 6, 2, 7, 1, 3]\n",
    "merge_sort(array)\n",
    "print(array)\n",
    "\n",
    "search_element_binary(array, len(array), 4)"
   ]
  },
  {
   "cell_type": "markdown",
   "id": "4fba9ad1",
   "metadata": {},
   "source": [
    "**Problem 2.**\n",
    "In this case the funtion is constant if all the outputs are 0\n",
    "\n",
    "| Input $$x_1$$ | Input $$x_0$$ | Input $$y$$ |$$f(x)$$|$$y \\oplus f(x)$$|\n",
    "|:----:|:------:|:------:|:------:|:------:|\n",
    "| 0 | 0 | 0 | 0 | 0 |\n",
    "| 0 | 0 | 1 | 0 | 1 |\n",
    "| 0 | 1 | 0 | 0 | 0 |\n",
    "| 0 | 1 | 1 | 0 | 1 |\n",
    "| 1 | 0 | 0 | 0 | 0 |\n",
    "| 1 | 0 | 1 | 0 | 1 |\n",
    "| 1 | 1 | 0 | 0 | 0 |\n",
    "| 1 | 1 | 1 | 0 | 1 |\n",
    "\n",
    "Here, we notice that $y \\oplus f(x) = y$, which makes sense since $f(x) = 0$ and $y \\oplus 0 = y$\n",
    "\n",
    "Next is the balanced part half 0 and half 1, so there are at least 4 possible cases were this conditions is true.\n",
    "\n",
    "| Input $$x_1$$ | Input $$x_0$$ | Input $$y$$ |Case 1 $$f(x)$$|Case 1 $$y \\oplus f(x)$$|\n",
    "|:----:|:------:|:------:|:------:|:------:|\n",
    "| 0 | 0 | 0 | 0 | 0 |\n",
    "| 0 | 0 | 1 | 0 | 1 |\n",
    "| 0 | 1 | 0 | 0 | 0 |\n",
    "| 0 | 1 | 1 | 0 | 1 |\n",
    "| 1 | 0 | 0 | 1 | 1 |\n",
    "| 1 | 0 | 1 | 1 | 0 |\n",
    "| 1 | 1 | 0 | 1 | 1 |\n",
    "| 1 | 1 | 1 | 1 | 0 |\n",
    "\n",
    "Here, we notice that $y \\oplus f(x) = y \\oplus x_1$, which makes sense, since $f(x) = x_1$. This is a CNOT between $x_1$ and y!\n",
    "\n",
    "| Input $$x_1$$ | Input $$x_0$$ | Input $$y$$ |Case 2 $$f(x)$$|Case 2 $$y \\oplus f(x)$$|\n",
    "|:----:|:------:|:------:|:------:|:------:|\n",
    "| 0 | 0 | 0 | 1 | 1 |\n",
    "| 0 | 0 | 1 | 1 | 0 |\n",
    "| 0 | 1 | 0 | 1 | 1 |\n",
    "| 0 | 1 | 1 | 1 | 0 |\n",
    "| 1 | 0 | 0 | 0 | 0 |\n",
    "| 1 | 0 | 1 | 0 | 1 |\n",
    "| 1 | 1 | 0 | 0 | 0 |\n",
    "| 1 | 1 | 1 | 0 | 1 |\n",
    "\n",
    "Here, we notice that $y \\oplus f(x) = y \\oplus \\bar{x_1}$, which makes sense, since $f(x) = \\bar{x_1}$. This is a CNOT between $\\bar{x_1}$ and y!\n",
    "\n",
    "| Input $$x_1$$ | Input $$x_0$$ | Input $$y$$ |Case 2 $$f(x)$$|Case 2 $$y \\oplus f(x)$$|\n",
    "|:----:|:------:|:------:|:------:|:------:|\n",
    "| 0 | 0 | 0 | 0 | 0 |\n",
    "| 0 | 0 | 1 | 0 | 1 |\n",
    "| 0 | 1 | 0 | 1 | 1 |\n",
    "| 0 | 1 | 1 | 1 | 0 |\n",
    "| 1 | 0 | 0 | 0 | 0 |\n",
    "| 1 | 0 | 1 | 0 | 1 |\n",
    "| 1 | 1 | 0 | 1 | 1 |\n",
    "| 1 | 1 | 1 | 1 | 0 |\n",
    "\n",
    "Here, we notice that $y \\oplus f(x) = y \\oplus x_0$, which makes sense, since $f(x) = x_0$. This is a CNOT between $x_0$ and y!\n",
    "\n",
    "| Input $$x_1$$ | Input $$x_0$$ | Input $$y$$ |Case 2 $$f(x)$$|Case 2 $$y \\oplus f(x)$$|\n",
    "|:----:|:------:|:------:|:------:|:------:|\n",
    "| 0 | 0 | 0 | 1 | 1 |\n",
    "| 0 | 0 | 1 | 1 | 0 |\n",
    "| 0 | 1 | 0 | 0 | 0 |\n",
    "| 0 | 1 | 1 | 0 | 1 |\n",
    "| 1 | 0 | 0 | 1 | 1 |\n",
    "| 1 | 0 | 1 | 1 | 0 |\n",
    "| 1 | 1 | 0 | 0 | 0 |\n",
    "| 1 | 1 | 1 | 0 | 1 |\n",
    "\n",
    "Here, we notice that $y \\oplus f(x) = y \\oplus \\bar{x_0}$, which makes sense, since $f(x) = \\bar{x_0}$. This is a CNOT between $\\bar{x_0}$ and y!"
   ]
  },
  {
   "cell_type": "code",
   "execution_count": 20,
   "id": "d7476eb9",
   "metadata": {},
   "outputs": [],
   "source": [
    "def oracles(n,qc):\n",
    "    if n == 0: #Constant case\n",
    "        pass\n",
    "    elif n == 1: #Balanced case x1 CNOT y\n",
    "        qc.cx(1,2)\n",
    "    elif n == 2: #Balanced case \\bar{x1} CNOT y\n",
    "        qc.x(1)\n",
    "        qc.cx(1,2)\n",
    "    elif n == 3: #Balanced case x0 CNOT y\n",
    "        qc.cx(0,2)\n",
    "    elif n == 4: #Balanced case \\bar{x0} CNOT y\n",
    "        qc.x(0)\n",
    "        qc.cx(0,2)"
   ]
  },
  {
   "cell_type": "code",
   "execution_count": 21,
   "id": "6475f116",
   "metadata": {},
   "outputs": [
    {
     "data": {
      "image/png": "[encoded data removed]",
      "text/plain": [
       "<Figure size 808.997x264.88 with 1 Axes>"
      ]
     },
     "execution_count": 21,
     "metadata": {},
     "output_type": "execute_result"
    }
   ],
   "source": [
    "import random\n",
    "\n",
    "qc = q.QuantumCircuit(3,3)\n",
    "qc.x(2)    # Step 2\n",
    "qc.barrier()\n",
    "qc.h(0)    # Step 3\n",
    "qc.h(1)    # Step 3\n",
    "qc.h(2)    # Step 3\n",
    "qc.barrier()\n",
    "oracles(random.randint(0,4), qc)  # Step 4\n",
    "qc.barrier()\n",
    "qc.h(0) # Step 5\n",
    "qc.h(1) # Step 5\n",
    "qc.h(2) # Step 5\n",
    "qc.barrier()\n",
    "qc.measure([0,1,2],[0,1,2]) # Step 6\n",
    "qc.draw('mpl')"
   ]
  },
  {
   "cell_type": "code",
   "execution_count": 22,
   "id": "82f87764",
   "metadata": {},
   "outputs": [
    {
     "name": "stdout",
     "output_type": "stream",
     "text": [
      "{'101': 1024}\n"
     ]
    }
   ],
   "source": [
    "backend = q.Aer.get_backend('qasm_simulator')\n",
    "job = q.execute (qc, backend, shots = 1024)\n",
    "results = job.result()\n",
    "counts = results.get_counts(qc)\n",
    "print(counts)"
   ]
  },
  {
   "cell_type": "markdown",
   "id": "916f3d61",
   "metadata": {},
   "source": [
    "If we try to generalize in the case with 1 and 2 qubits we can see that the constant case is only y!. So we can say that no matter the number of qubits the constant case will always be y!\n",
    "\n",
    "But in a balanced case we need to analyze to generate a oracle. With 3 qubits we can have the following\n",
    "\n",
    "| Input $$x_2$$ | Input $$x_1$$ | Input $$x_0$$ | Input $$y$$ | $$f(x)$$| $$y \\oplus f(x)$$ |\n",
    "|:----:|:------:|:------:|:------:|:------:|:------:|\n",
    "| 0 | 0 | 0 | 0 | 0 | 0 |\n",
    "| 0 | 0 | 0 | 1 | 0 | 1 |\n",
    "| 0 | 0 | 1 | 0 | 0 | 0 |\n",
    "| 0 | 0 | 1 | 1 | 0 | 1 |\n",
    "| 0 | 1 | 0 | 0 | 0 | 0 |\n",
    "| 0 | 1 | 0 | 1 | 0 | 1 |\n",
    "| 0 | 1 | 1 | 0 | 0 | 0 |\n",
    "| 0 | 1 | 1 | 1 | 0 | 1 |\n",
    "| 1 | 0 | 0 | 0 | 1 | 1 |\n",
    "| 1 | 0 | 0 | 1 | 1 | 0 |\n",
    "| 1 | 0 | 1 | 0 | 1 | 1 |\n",
    "| 1 | 0 | 1 | 1 | 1 | 0 |\n",
    "| 1 | 1 | 0 | 0 | 1 | 1 |\n",
    "| 1 | 1 | 0 | 1 | 1 | 0 |\n",
    "| 1 | 1 | 1 | 0 | 1 | 1 |\n",
    "| 1 | 1 | 1 | 1 | 1 | 0 |\n",
    "\n",
    "Here, we notice that $y \\oplus f(x) = y \\oplus x_2$, which makes sense, since $f(x) = x_2$. This is a CNOT between $x_2$ and y! and we can assume that the inverse case can be $y \\oplus f(x) = y \\oplus \\bar{x_2}$, which makes sense, since $f(x) = \\bar{x_2}$. This is a CNOT between $\\bar{x_2}$ and y!\n",
    "\n",
    "| Input $$x_2$$ | Input $$x_1$$ | Input $$x_0$$ | Input $$y$$ | $$f(x)$$| $$y \\oplus f(x)$$ |\n",
    "|:----:|:------:|:------:|:------:|:------:|:------:|\n",
    "| 0 | 0 | 0 | 0 | 0 | 0 |\n",
    "| 0 | 0 | 0 | 1 | 0 | 1 |\n",
    "| 0 | 0 | 1 | 0 | 1 | 1 |\n",
    "| 0 | 0 | 1 | 1 | 1 | 0 |\n",
    "| 0 | 1 | 0 | 0 | 0 | 0 |\n",
    "| 0 | 1 | 0 | 1 | 0 | 1 |\n",
    "| 0 | 1 | 1 | 0 | 1 | 1 |\n",
    "| 0 | 1 | 1 | 1 | 1 | 0 |\n",
    "| 1 | 0 | 0 | 0 | 0 | 0 |\n",
    "| 1 | 0 | 0 | 1 | 0 | 1 |\n",
    "| 1 | 0 | 1 | 0 | 1 | 1 |\n",
    "| 1 | 0 | 1 | 1 | 1 | 0 |\n",
    "| 1 | 1 | 0 | 0 | 0 | 0 |\n",
    "| 1 | 1 | 0 | 1 | 0 | 1 |\n",
    "| 1 | 1 | 1 | 0 | 1 | 1 |\n",
    "| 1 | 1 | 1 | 1 | 1 | 0 |\n",
    "\n",
    "Here, we notice that $y \\oplus f(x) = y \\oplus x_0$, which makes sense, since $f(x) = x_0$. This is a CNOT between $x_0$ and y! and we can assume that the inverse case can be $y \\oplus f(x) = y \\oplus \\bar{x_0}$, which makes sense, since $f(x) = \\bar{x_0}$. This is a CNOT between $\\bar{x_0}$ and y!\n",
    "\n",
    "So to generalize the function to n qubits we can work with the most significant bit and the less significant bit to build our oracle"
   ]
  },
  {
   "cell_type": "code",
   "execution_count": 23,
   "id": "e437302e",
   "metadata": {},
   "outputs": [],
   "source": [
    "def general_oracles(n,qc):\n",
    "    MSB = int(qc.width()-2) #Get the most significant bit of the circuit\n",
    "    y = int(qc.width()-1) #Get y qubit position\n",
    "    if n == 0: #Constant case\n",
    "        pass\n",
    "    elif n == 1: #Balanced case MSB CNOT y\n",
    "        qc.cx(MSB,y)\n",
    "    elif n == 2: #Balanced case \\bar{MSB} CNOT y\n",
    "        qc.x(MSB)\n",
    "        qc.cx(MSB,y)\n",
    "    elif n == 3: #Balanced case x0 CNOT y\n",
    "        qc.cx(0,y)\n",
    "    elif n == 4: #Balanced case \\bar{x0} CNOT y\n",
    "        qc.x(0)\n",
    "        qc.cx(0,y)"
   ]
  },
  {
   "cell_type": "code",
   "execution_count": 24,
   "id": "0ddd0e70",
   "metadata": {},
   "outputs": [
    {
     "data": {
      "image/png": "[encoded data removed]",
      "text/plain": [
       "<Figure size 959.679x385.28 with 1 Axes>"
      ]
     },
     "execution_count": 24,
     "metadata": {},
     "output_type": "execute_result"
    }
   ],
   "source": [
    "import random\n",
    "\n",
    "n_qubits = random.randint(1,10) #Select a random number of qubits\n",
    "y = n_qubits-1 #Find the qubit for y\n",
    "qc = q.QuantumCircuit(n_qubits)\n",
    "qc.x(y)    # Step 2\n",
    "qc.barrier()\n",
    "#Step 3\n",
    "for i in range(0, n_qubits):\n",
    "    qc.h(i)\n",
    "qc.barrier()\n",
    "general_oracles(random.randint(0,4), qc)  # Step 4\n",
    "qc.barrier()\n",
    "#Step 5\n",
    "for i in range(0, n_qubits):\n",
    "    qc.h(i)\n",
    "qc.barrier()\n",
    "qc.measure_all() # Step 6\n",
    "qc.draw('mpl')"
   ]
  },
  {
   "cell_type": "code",
   "execution_count": 25,
   "id": "bcc42519",
   "metadata": {},
   "outputs": [
    {
     "name": "stdout",
     "output_type": "stream",
     "text": [
      "{'11000': 1024}\n"
     ]
    }
   ],
   "source": [
    "backend = q.Aer.get_backend('qasm_simulator')\n",
    "job = q.execute (qc, backend, shots = 1024)\n",
    "results = job.result()\n",
    "counts = results.get_counts(qc)\n",
    "print(counts)"
   ]
  },
  {
   "cell_type": "code",
   "execution_count": null,
   "id": "3d93b421",
   "metadata": {},
   "outputs": [],
   "source": []
  }
 ],
 "metadata": {
  "colab": {
   "collapsed_sections": [],
   "name": "QxQ Search Algorithms.ipynb",
   "provenance": []
  },
  "kernelspec": {
   "display_name": "Python 3",
   "language": "python",
   "name": "python3"
  },
  "language_info": {
   "codemirror_mode": {
    "name": "ipython",
    "version": 3
   },
   "file_extension": ".py",
   "mimetype": "text/x-python",
   "name": "python",
   "nbconvert_exporter": "python",
   "pygments_lexer": "ipython3",
   "version": "3.8.8"
  }
 },
 "nbformat": 4,
 "nbformat_minor": 5
}
